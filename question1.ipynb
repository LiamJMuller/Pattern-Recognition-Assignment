{
 "cells": [
  {
   "cell_type": "markdown",
   "id": "949e9c29",
   "metadata": {},
   "source": [
    "1.1 Calcualte the entropy and gini index fo the 'acces' outcome"
   ]
  },
  {
   "cell_type": "code",
   "execution_count": null,
   "id": "a9f1cdd1",
   "metadata": {},
   "outputs": [],
   "source": [
    "import pandas as pd\n",
    "import numpy as np\n",
    "\n",
    "df = pd.read_csv(\"RRA_security_gate_dataset_q1.csv\", index_col=False)"
   ]
  },
  {
   "cell_type": "code",
   "execution_count": null,
   "id": "fba203bc",
   "metadata": {},
   "outputs": [],
   "source": [
    "dfs=df[[\"Access\"]]"
   ]
  },
  {
   "cell_type": "code",
   "execution_count": null,
   "id": "801e0c05",
   "metadata": {},
   "outputs": [],
   "source": [
    "# counting class frequency\n",
    "count = dfs.value_counts()\n",
    "print(f\"The class frequency: {count}\")"
   ]
  },
  {
   "cell_type": "code",
   "execution_count": null,
   "id": "2fd970d5",
   "metadata": {},
   "outputs": [],
   "source": [
    "# calculating the probability\n",
    "prob = count/len(df)\n",
    "print(f\"The probability of a class: {prob}\")"
   ]
  },
  {
   "cell_type": "code",
   "execution_count": null,
   "id": "4dc085dc",
   "metadata": {},
   "outputs": [],
   "source": [
    "# calculating entropy\n",
    "entropy = -np.sum(prob*np.log2(prob))\n",
    "print(\"=\"*60)\n",
    "print(f\"The entropy of the Access column: {entropy:.4f}\")\n",
    "print(\"=\"*60)"
   ]
  },
  {
   "cell_type": "code",
   "execution_count": null,
   "id": "ace84ff7",
   "metadata": {},
   "outputs": [],
   "source": [
    "# calculating gini index\n",
    "gini = 1-np.sum(prob**2)\n",
    "print(\"=\"*60)\n",
    "print(f\"The gini index of the Access column: {gini:.4f}\")\n",
    "print(\"=\"*60)"
   ]
  },
  {
   "cell_type": "markdown",
   "id": "3814d17c",
   "metadata": {},
   "source": [
    "1.2 Use decision tree to predict the future access"
   ]
  },
  {
   "cell_type": "code",
   "execution_count": null,
   "id": "0e3c7e31",
   "metadata": {},
   "outputs": [],
   "source": [
    "df.head()"
   ]
  },
  {
   "cell_type": "code",
   "execution_count": null,
   "id": "460a37ab",
   "metadata": {},
   "outputs": [],
   "source": [
    "from sklearn.tree import DecisionTreeClassifier, export_text\n",
    "\n",
    "# splitting data into features and target variables\n",
    "X = df.drop('Access', axis=1)\n",
    "y = df['Access']"
   ]
  },
  {
   "cell_type": "code",
   "execution_count": null,
   "id": "bd9b4588",
   "metadata": {},
   "outputs": [],
   "source": [
    "# building model\n",
    "tree = DecisionTreeClassifier(criterion=\"entropy\")\n",
    "tree.fit(X, y) # loading the data into the decision tree"
   ]
  },
  {
   "cell_type": "code",
   "execution_count": null,
   "id": "3668dee4",
   "metadata": {},
   "outputs": [],
   "source": [
    "# showing rules of the tree\n",
    "tree_rules = export_text(tree)\n",
    "print(f\"These are the rules the decision tree follows: \\n{tree_rules}\")"
   ]
  },
  {
   "cell_type": "code",
   "execution_count": null,
   "id": "98ea242d",
   "metadata": {},
   "outputs": [],
   "source": [
    "# making a prediction, Age=40, Gender=1 (male), Authorised=0\n",
    "new_person=[[40, 1, 0]]\n",
    "pred=tree.predict(new_person)\n",
    "\n",
    "# showing the classification of the new person\n",
    "print(f\"Does the new person have Access. No=0 and Yes=1\\nAccess:{pred}\")"
   ]
  },
  {
   "cell_type": "markdown",
   "id": "faf82189",
   "metadata": {},
   "source": [
    "1.3"
   ]
  },
  {
   "cell_type": "code",
   "execution_count": null,
   "id": "55b42727",
   "metadata": {},
   "outputs": [],
   "source": [
    "from sklearn.metrics import classification_report, accuracy_score\n",
    "from sklearn.model_selection import train_test_split\n",
    "\n",
    "# splitting data into training and test data\n",
    "X_train, X_test, y_train, y_test = train_test_split(X, y, test_size=0.2, random_state=42)\n",
    "\n",
    "dt_pred = tree.predict(y)\n",
    "print(f\"Decision Tree accuracy score: \\n{accuracy_score(dt_pred, y)}\\n Classification report:\\n{classification_report(y, dt_pred)}\")"
   ]
  },
  {
   "cell_type": "code",
   "execution_count": null,
   "id": "61cacce6",
   "metadata": {},
   "outputs": [],
   "source": []
  }
 ],
 "metadata": {
  "kernelspec": {
   "display_name": "ZTM_data_science",
   "language": "python",
   "name": "python3"
  },
  "language_info": {
   "codemirror_mode": {
    "name": "ipython",
    "version": 3
   },
   "file_extension": ".py",
   "mimetype": "text/x-python",
   "name": "python",
   "nbconvert_exporter": "python",
   "pygments_lexer": "ipython3",
   "version": "3.11.11"
  }
 },
 "nbformat": 4,
 "nbformat_minor": 5
}
