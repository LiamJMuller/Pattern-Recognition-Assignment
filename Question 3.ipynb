{
 "cells": [
  {
   "cell_type": "markdown",
   "id": "463948e9",
   "metadata": {},
   "source": [
    "Question 3\n",
    "3.1 Using the provided dataset, preprocess the data with CountVectorizer and train a Naive Bayes classifier to predict whether a given command should be classified as \"Allow\" or \"Deny\". "
   ]
  },
  {
   "cell_type": "code",
   "execution_count": 9,
   "id": "162a6429",
   "metadata": {},
   "outputs": [],
   "source": [
    "import numpy as np\n",
    "import pandas as pd\n",
    "from sklearn.naive_bayes import GaussianNB, MultinomialNB\n",
    "from sklearn.feature_extraction.text import CountVectorizer\n",
    "from sklearn.metrics import accuracy_score, classification_report"
   ]
  },
  {
   "cell_type": "code",
   "execution_count": 2,
   "id": "1e8378e8",
   "metadata": {},
   "outputs": [],
   "source": [
    "data = {\n",
    "    \"spoken_phrase\": ['grant access', 'deny access', 'approve access', 'block access', 'let in'],\n",
    "    \"action\": ['Allow', 'Deny', 'Allow', 'Deny', 'Allow']\n",
    "}"
   ]
  },
  {
   "cell_type": "code",
   "execution_count": 6,
   "id": "58a693ea",
   "metadata": {},
   "outputs": [
    {
     "name": "stdout",
     "output_type": "stream",
     "text": [
      "X vectorized shape: (5, 7)\n"
     ]
    }
   ],
   "source": [
    "df = pd.DataFrame(data)\n",
    "\n",
    "# selecting features and label\n",
    "X = df['spoken_phrase']\n",
    "y = df['action']\n",
    "\n",
    "# applying countervectoriser\n",
    "vectorizer = CountVectorizer()\n",
    "X_vec = vectorizer.fit_transform(X).toarray()\n",
    "\n",
    "print(f\"X vectorized shape: {X_vec.shape}\")\n"
   ]
  },
  {
   "cell_type": "code",
   "execution_count": 10,
   "id": "682a83bf",
   "metadata": {},
   "outputs": [
    {
     "name": "stdout",
     "output_type": "stream",
     "text": [
      "GaussianNB predictions: ['Allow' 'Deny' 'Allow' 'Deny' 'Allow']\n",
      "GaussianNB accuracy: 100.00%\n"
     ]
    },
    {
     "data": {
      "text/plain": [
       "'# multinomial model\\nmnb = MultinomialNB()\\nmnb.fit(X_vec, y)\\nmnb_y_pred = mnb.predict(X_vec)\\nprint(f\"MultinomialNB predictions: {mnb_y_pred}\")'"
      ]
     },
     "execution_count": 10,
     "metadata": {},
     "output_type": "execute_result"
    }
   ],
   "source": [
    "# creating model \n",
    "# gaussian model\n",
    "gnb = GaussianNB()\n",
    "gnb.fit(X_vec, y)\n",
    "\n",
    "gnb_y_pred = gnb.predict(X_vec)\n",
    "print(f\"GaussianNB predictions: {gnb_y_pred}\")\n",
    "\n",
    "accuracy = accuracy_score(y, gnb_y_pred)\n",
    "print(f\"GaussianNB accuracy: {accuracy*100:.2f}%\")\n",
    "\n",
    "\"\"\"# multinomial model\n",
    "mnb = MultinomialNB()\n",
    "mnb.fit(X_vec, y)\n",
    "mnb_y_pred = mnb.predict(X_vec)\n",
    "print(f\"MultinomialNB predictions: {mnb_y_pred}\")\"\"\"\n"
   ]
  },
  {
   "cell_type": "markdown",
   "id": "14f5b8dd",
   "metadata": {},
   "source": [
    "3.2 Predict the intent of a new command: \"block entry\"\n",
    "\n",
    "Also, calculate and display the probability scores for each class (Allow/Deny). "
   ]
  },
  {
   "cell_type": "code",
   "execution_count": 15,
   "id": "2b60bc5f",
   "metadata": {},
   "outputs": [],
   "source": [
    "# tesing the model\n",
    "def predict_command(command):\n",
    "    phrase_vec = vectorizer.transform([command]).toarray()\n",
    "    pred = gnb.predict(phrase_vec)[0]\n",
    "    prob = gnb.predict_proba(phrase_vec)[0]\n",
    "    return pred, prob"
   ]
  },
  {
   "cell_type": "code",
   "execution_count": 16,
   "id": "45716779",
   "metadata": {},
   "outputs": [
    {
     "name": "stdout",
     "output_type": "stream",
     "text": [
      "Test phrase: 'block entry'\n",
      " Prediction: Deny\n",
      " Probabilities: [1.1993559e-14 1.0000000e+00]\n"
     ]
    }
   ],
   "source": [
    "# test input data\n",
    "command = 'block entry'\n",
    "result, probs = predict_command(command)\n",
    "\n",
    "print(f\"Test phrase: '{command}'\\n Prediction: {result}\\n Probabilities: {probs}\")"
   ]
  },
  {
   "cell_type": "code",
   "execution_count": null,
   "id": "6f43f295",
   "metadata": {},
   "outputs": [],
   "source": []
  }
 ],
 "metadata": {
  "kernelspec": {
   "display_name": "ZTM_data_science",
   "language": "python",
   "name": "python3"
  },
  "language_info": {
   "codemirror_mode": {
    "name": "ipython",
    "version": 3
   },
   "file_extension": ".py",
   "mimetype": "text/x-python",
   "name": "python",
   "nbconvert_exporter": "python",
   "pygments_lexer": "ipython3",
   "version": "3.11.11"
  }
 },
 "nbformat": 4,
 "nbformat_minor": 5
}
