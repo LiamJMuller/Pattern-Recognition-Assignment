{
 "cells": [
  {
   "cell_type": "markdown",
   "id": "463948e9",
   "metadata": {},
   "source": [
    "Question 3  \n",
    "3.1 Using the provided dataset, preprocess the data with CountVectorizer and train a Naive Bayes classifier to predict whether a given command should be classified as \"Allow\" or \"Deny\". "
   ]
  },
  {
   "cell_type": "code",
   "execution_count": 37,
   "id": "162a6429",
   "metadata": {},
   "outputs": [],
   "source": [
    "import numpy as np\n",
    "import pandas as pd\n",
    "from sklearn.naive_bayes import GaussianNB # MultinomialNB\n",
    "from sklearn.feature_extraction.text import TfidfVectorizer, CountVectorizer\n",
    "from sklearn.metrics import accuracy_score #classification_report"
   ]
  },
  {
   "cell_type": "code",
   "execution_count": 20,
   "id": "1e8378e8",
   "metadata": {},
   "outputs": [],
   "source": [
    "data = {\n",
    "    \"spoken_phrase\": ['grant access', 'deny access', 'approve access', 'block access', 'let in'],\n",
    "    \"action\": ['Allow', 'Deny', 'Allow', 'Deny', 'Allow']\n",
    "}"
   ]
  },
  {
   "cell_type": "code",
   "execution_count": 38,
   "id": "58a693ea",
   "metadata": {},
   "outputs": [
    {
     "name": "stdout",
     "output_type": "stream",
     "text": [
      "X vectorized shape: (5, 7)\n"
     ]
    }
   ],
   "source": [
    "df = pd.DataFrame(data)\n",
    "\n",
    "# selecting features and label\n",
    "X = df['spoken_phrase']\n",
    "y = df['action']\n",
    "\n",
    "# applying countervectoriser\n",
    "vectorizer = CountVectorizer()\n",
    "X_vec = vectorizer.fit_transform(X).toarray()\n",
    "\n",
    "\"\"\"# tf-idf vectorizer\n",
    "tf = TfidfVectorizer()\n",
    "X_vec = tf.fit_transform(X).toarray()\"\"\"\n",
    "\n",
    "print(f\"X vectorized shape: {X_vec.shape}\")\n"
   ]
  },
  {
   "cell_type": "code",
   "execution_count": 39,
   "id": "682a83bf",
   "metadata": {},
   "outputs": [
    {
     "name": "stdout",
     "output_type": "stream",
     "text": [
      "GaussianNB predictions: ['Allow' 'Deny' 'Allow' 'Deny' 'Allow']\n",
      "GaussianNB accuracy: 100.00%\n"
     ]
    }
   ],
   "source": [
    "# creating model \n",
    "# gaussian model\n",
    "gnb = GaussianNB()\n",
    "gnb.fit(X_vec, y)\n",
    "\n",
    "gnb_y_pred = gnb.predict(X_vec)\n",
    "print(f\"GaussianNB predictions: {gnb_y_pred}\")\n",
    "\n",
    "accuracy = accuracy_score(y, gnb_y_pred)\n",
    "print(f\"GaussianNB accuracy: {accuracy*100:.2f}%\")\n",
    "\n",
    "# multinomial model\n",
    "#mnb = MultinomialNB()\n",
    "#mnb.fit(X_vec, y)\n",
    "#mnb_y_pred = mnb.predict(X_vec)\n",
    "#print(f\"MultinomialNB predictions: {mnb_y_pred}\")\n"
   ]
  },
  {
   "cell_type": "markdown",
   "id": "14f5b8dd",
   "metadata": {},
   "source": [
    "3.2 Predict the intent of a new command: \"block entry\"\n",
    "\n",
    "Also, calculate and display the probability scores for each class (Allow/Deny). "
   ]
  },
  {
   "cell_type": "code",
   "execution_count": 40,
   "id": "2b60bc5f",
   "metadata": {},
   "outputs": [
    {
     "name": "stdout",
     "output_type": "stream",
     "text": [
      "System is ready for testing!\n"
     ]
    }
   ],
   "source": [
    "# testing the model\n",
    "def predict_command(command):\n",
    "    phrase_vec = tf.transform([command]).toarray()\n",
    "    pred = gnb.predict(phrase_vec)[0]\n",
    "    prob = gnb.predict_proba(phrase_vec)[0]\n",
    "    return pred, prob\n",
    "\n",
    "# showing the system is ready\n",
    "print('System is ready for testing!')"
   ]
  },
  {
   "cell_type": "code",
   "execution_count": 41,
   "id": "45716779",
   "metadata": {},
   "outputs": [
    {
     "name": "stdout",
     "output_type": "stream",
     "text": [
      "Test phrase: 'block entry'\n",
      " Prediction: Deny\n",
      " Probabilities: [1.1993559e-14 1.0000000e+00]\n"
     ]
    }
   ],
   "source": [
    "# test input data\n",
    "command = 'block entry'\n",
    "result, probs = predict_command(command)\n",
    "\n",
    "print(f\"Test phrase: '{command}'\\n Prediction: {result}\\n Probabilities: {probs}\")"
   ]
  },
  {
   "cell_type": "markdown",
   "id": "da6d57d6",
   "metadata": {},
   "source": [
    "3.3 Write a Python function that publishes the result to a topic named /gate_command. "
   ]
  },
  {
   "cell_type": "code",
   "execution_count": 45,
   "id": "d66f181e",
   "metadata": {},
   "outputs": [],
   "source": [
    "def gate_command(command, confidence):\n",
    "    # emulating the publishing of the gate command\n",
    "    msgData = f\"{command},{confidence:.3f}\"\n",
    "    print(f\"Emulated publish to /gate_command: {msgData}\", flush=True)"
   ]
  },
  {
   "cell_type": "code",
   "execution_count": 8,
   "id": "cf5b43f4",
   "metadata": {},
   "outputs": [],
   "source": [
    "def voice_to_gate(spoken_phrase):\n",
    "    # predicting intent using the model\n",
    "    pred, prob = predict_command(spoken_phrase)\n",
    "    confidence = max(prob)\n",
    "    # publish command to gate control system\n",
    "    gate_command(pred, confidence)\n",
    "\n",
    "    # logging interactions\n",
    "    print(f\"Voice command: '{spoken_phrase}\")\n",
    "    print(f\"Prediction: {pred} (confidence: {confidence:.3f})\")\n",
    "    print(f\"Sent to gate: /gate_command -> {pred}:{confidence:.3f}\")\n",
    "\n",
    "    return pred, confidence"
   ]
  },
  {
   "cell_type": "code",
   "execution_count": 47,
   "id": "6a9f3e26",
   "metadata": {},
   "outputs": [
    {
     "name": "stdout",
     "output_type": "stream",
     "text": [
      "Emulated publish to /gate_command: open_gate,0.987\n"
     ]
    }
   ],
   "source": [
    "# Test the gate_command function directly\n",
    "gate_command(\"open_gate\", 0.987)"
   ]
  },
  {
   "cell_type": "code",
   "execution_count": 48,
   "id": "87753129",
   "metadata": {},
   "outputs": [
    {
     "name": "stdout",
     "output_type": "stream",
     "text": [
      "Emulated publish to /gate_command: Allow,1.000\n",
      "Voice command: 'open the date\n",
      "Prediction: Allow (confidence: 1.000)\n",
      "Sent to gate: /gate_command -> Allow:1.000\n"
     ]
    },
    {
     "data": {
      "text/plain": [
       "('Allow', 1.0)"
      ]
     },
     "execution_count": 48,
     "metadata": {},
     "output_type": "execute_result"
    }
   ],
   "source": [
    "voice_to_gate(\"open the date\")"
   ]
  },
  {
   "cell_type": "code",
   "execution_count": 49,
   "id": "f980137b",
   "metadata": {},
   "outputs": [
    {
     "name": "stdout",
     "output_type": "stream",
     "text": [
      "Emulated publish to /gate_command: Deny,1.000\n",
      "Voice command: 'please deny access\n",
      "Prediction: Deny (confidence: 1.000)\n",
      "Sent to gate: /gate_command -> Deny:1.000\n"
     ]
    },
    {
     "data": {
      "text/plain": [
       "('Deny', 1.0)"
      ]
     },
     "execution_count": 49,
     "metadata": {},
     "output_type": "execute_result"
    }
   ],
   "source": [
    "voice_to_gate(\"please deny access\")"
   ]
  }
 ],
 "metadata": {
  "kernelspec": {
   "display_name": "ML_interpreter_20250527",
   "language": "python",
   "name": "python3"
  },
  "language_info": {
   "codemirror_mode": {
    "name": "ipython",
    "version": 3
   },
   "file_extension": ".py",
   "mimetype": "text/x-python",
   "name": "python",
   "nbconvert_exporter": "python",
   "pygments_lexer": "ipython3",
   "version": "3.11.9"
  }
 },
 "nbformat": 4,
 "nbformat_minor": 5
}
