{
 "cells": [
  {
   "cell_type": "markdown",
   "id": "92a7d237",
   "metadata": {},
   "source": [
    "Question 4"
   ]
  },
  {
   "cell_type": "markdown",
   "id": "59c530c5",
   "metadata": {},
   "source": [
    "4.1"
   ]
  },
  {
   "cell_type": "code",
   "execution_count": null,
   "id": "f2ffa382",
   "metadata": {},
   "outputs": [],
   "source": [
    "def gate_alert_node():\n",
    "    # emulating continous running\n",
    "    print(\"Gate alert node started. Listening for sensor status\") # emulating rospy.spin()\n",
    "\n",
    "    # simulating receiving messages\n",
    "    while true:\n",
    "        # getting sensor status\n",
    "        status = input(\"Enter sensor status (unauthorised, authorised, idle, or quit to exit)\").lower()\n",
    "        # process the status according to the logic\n",
    "        if status == \"quit\":\n",
    "            print(\"Exiting gate alert node.\")\n",
    "            break\n",
    "        elif status == \"unauthorised\":\n",
    "            print(\"ALERT: Unauthorised access detected! Triggering alarm!\")\n",
    "        elif status == \"authorised\":\n",
    "            print(\"Access granted. No action needed.\")\n",
    "        elif status == \"idle\":\n",
    "            print(\"Gate is idle. Monitoring continues.\")\n",
    "        else:\n",
    "            print(f\"Unknown status received, {status}. \\nPlease enter a valid status.\")"
   ]
  },
  {
   "cell_type": "markdown",
   "id": "b45c8c23",
   "metadata": {},
   "source": [
    "4.2"
   ]
  },
  {
   "cell_type": "code",
   "execution_count": 2,
   "id": "37128e7c",
   "metadata": {},
   "outputs": [],
   "source": [
    "def simulate_sensor_status(status):\n",
    "    print(f\"\\nSimulating message on /sensor_status: {status}\")\n",
    "    if status == \"unauthorised\":\n",
    "        print(\"! ALERT: Intruder decected. Locking the gate and notifying security.\")\n",
    "    elif status == \"authorised\":\n",
    "        print(\"Access granted. \\nGate is now open. \\n Welcome, passenger\")\n",
    "    elif status == \"idle\":\n",
    "        print(\"System at idle, waiting for next individual.\")\n",
    "    elif status == \"tampered\":\n",
    "        print(f\"? Unknown sensor status detected: <{status}>. \\nPlease check the sensor.\")\n",
    "    else:\n",
    "        print(f\"? Unknown sensor status detected: <{status}>\")"
   ]
  },
  {
   "cell_type": "code",
   "execution_count": 3,
   "id": "b46f9b4b",
   "metadata": {},
   "outputs": [
    {
     "name": "stdout",
     "output_type": "stream",
     "text": [
      "Demonstrating gate alert node functionality:\n",
      "\n",
      "Simulating message on /sensor_status: unauthorised\n",
      "! ALERT: Intruder decected. Locking the gate and notifying security.\n",
      "\n",
      "Simulating message on /sensor_status: authorised\n",
      "Access granted. \n",
      "Gate is now open. \n",
      " Welcome, passenger\n",
      "\n",
      "Simulating message on /sensor_status: idle\n",
      "System at idle, waiting for next individual.\n",
      "\n",
      "Simulating message on /sensor_status: tampered\n",
      "? Unknown sensor status detected: <tampered>. \n",
      "Please check the sensor.\n"
     ]
    }
   ],
   "source": [
    "if __name__ == \"__main__\":\n",
    "    # running the continuous node emulation\n",
    "\n",
    "    # simulate each sensor state\n",
    "    print(\"Demonstrating gate alert node functionality:\")\n",
    "    simulate_sensor_status(\"unauthorised\")\n",
    "    simulate_sensor_status(\"authorised\")\n",
    "    simulate_sensor_status(\"idle\")\n",
    "    simulate_sensor_status(\"tampered\")"
   ]
  },
  {
   "cell_type": "code",
   "execution_count": null,
   "id": "5fed2de9",
   "metadata": {},
   "outputs": [],
   "source": []
  }
 ],
 "metadata": {
  "kernelspec": {
   "display_name": "ML_interpreter_20250527",
   "language": "python",
   "name": "python3"
  },
  "language_info": {
   "codemirror_mode": {
    "name": "ipython",
    "version": 3
   },
   "file_extension": ".py",
   "mimetype": "text/x-python",
   "name": "python",
   "nbconvert_exporter": "python",
   "pygments_lexer": "ipython3",
   "version": "3.11.9"
  }
 },
 "nbformat": 4,
 "nbformat_minor": 5
}
