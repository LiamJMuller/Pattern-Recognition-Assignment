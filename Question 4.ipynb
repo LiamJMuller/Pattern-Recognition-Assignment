{
 "cells": [
  {
   "cell_type": "markdown",
   "id": "92a7d237",
   "metadata": {},
   "source": [
    "Question 4"
   ]
  },
  {
   "cell_type": "markdown",
   "id": "59c530c5",
   "metadata": {},
   "source": [
    "4.1"
   ]
  },
  {
   "cell_type": "code",
   "execution_count": null,
   "id": "f2ffa382",
   "metadata": {},
   "outputs": [],
   "source": [
    "def callBack(msg):\n",
    "    status = msg.data.lower()\n",
    "    if status == \"unauthroised\":\n",
    "        print(\"ALERT! Intruder detected. Locking the gate and notifying security.\")\n",
    "    elif status == \"authorised\":\n",
    "        print(\"Access granted. Opening the gate.\\nWelcome!\")\n",
    "    elif status == \"idle\":\n",
    "        print(\"System is idle. Waiting for next trigger.\")\n",
    "    else:\n",
    "        print(f\"Unknown sensor status: {msg.data}\") \n",
    "\n",
    "def listener():\n",
    "    rospy.init_node('gate_alert_node', anonymous=True) # initialize the node\n",
    "    rospy.Subscriber('gate_alert', String, callBack)   # subscribe to the topic\n",
    "    rospy.spin()                                       # keep the node running\n",
    "\n",
    "if __name__ == '__main__':\n",
    "    try:\n",
    "        listener()\n",
    "    except rospy.ROSInterruptException:\n",
    "        pass"
   ]
  }
 ],
 "metadata": {
  "language_info": {
   "name": "python"
  }
 },
 "nbformat": 4,
 "nbformat_minor": 5
}
