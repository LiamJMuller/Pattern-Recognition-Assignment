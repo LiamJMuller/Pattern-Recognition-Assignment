{
 "cells": [
  {
   "cell_type": "markdown",
   "id": "e35944c1",
   "metadata": {},
   "source": [
    "Question 2"
   ]
  },
  {
   "cell_type": "markdown",
   "id": "e23011b6",
   "metadata": {},
   "source": [
    "2.1 implementing an A* algorithm to compute optimal path in a 3x3 maze"
   ]
  },
  {
   "cell_type": "code",
   "execution_count": 2,
   "id": "695dda6e",
   "metadata": {},
   "outputs": [],
   "source": [
    "import heapq"
   ]
  },
  {
   "cell_type": "code",
   "execution_count": null,
   "id": "20053670",
   "metadata": {},
   "outputs": [
    {
     "name": "stdout",
     "output_type": "stream",
     "text": [
      "Path found [(0, 0), (1, 0), (2, 0), (2, 1), (2, 2)]\n",
      "\n",
      "Maze with path:\n",
      "* 0 1\n",
      "* 1 0\n",
      "* * *\n"
     ]
    }
   ],
   "source": [
    "def astarAlgo(maze, start, goal):\n",
    "    rows, cols = len(maze), len(maze[0])\n",
    "\n",
    "    def heuristic(a, b):\n",
    "        # Manhattan distance\n",
    "        return abs(a[0] - b[0]) + abs(a[1] - b[1])\n",
    "    \n",
    "    # the priority queue\n",
    "    open_list = [(0+heuristic(start, goal), 0, start, [start])]\n",
    "    visited = set()\n",
    "\n",
    "    while open_list:\n",
    "        f, g, current, path = heapq.heappop(open_list)\n",
    "\n",
    "        if current in visited:\n",
    "            continue\n",
    "        visited.add(current)\n",
    "\n",
    "        # goal is reached\n",
    "        if current == goal:\n",
    "            return path\n",
    "        \n",
    "        # explore neighbors\n",
    "        for dx, dy in [(1,0), (-1,0), (0,1), (0,-1)]:\n",
    "            x, y = current[0]+dx, current[1]+dy\n",
    "            if 0<=x<rows and 0<=y<cols and maze[x][y] ==0:\n",
    "                neighbor=(x,y)\n",
    "                if neighbor not in visited:\n",
    "                    new_g = g+1\n",
    "                    new_f = new_g+heuristic(neighbor, goal)\n",
    "                    heapq.heappush(open_list,(new_f, new_g, neighbor, path+[neighbor]))\n",
    "    return None # no path found\n",
    "\n",
    "#2.2 Clearly display the path taken and calculate the total number of steps and the final cost of the path.\n",
    "def showPath(maze, path):\n",
    "    # Create a copy of the maze to display the path\n",
    "    display = [row[:] for row in maze]\n",
    "    for (x,y) in path:\n",
    "        display[x][y]=\"*\" # * shows the steps taken to navigate the mae from start to finish\n",
    "    for row in display:\n",
    "        print(\" \".join(str(cell) for cell in row))\n",
    "\n",
    "# maze in question\n",
    "maze = [\n",
    "    [0,0,1],\n",
    "    [0,1,0],\n",
    "    [0,0,0]\n",
    "]\n",
    "\n",
    "start =(0,0)\n",
    "goal = (2,2)\n",
    "\n",
    "path=astarAlgo(maze, start, goal)\n",
    "print(\"Path found\", path)\n",
    "\n",
    "if path:\n",
    "    print(\"\\nMaze with path:\")\n",
    "    showPath(maze, path)"
   ]
  },
  {
   "cell_type": "markdown",
   "id": "db4f17c9",
   "metadata": {},
   "source": [
    "2.3 Explain how this algorithm could be used in real-time with a robotic navigation system to guide passengers during an evacuation.\n"
   ]
  }
 ],
 "metadata": {
  "kernelspec": {
   "display_name": "ZTM_data_science",
   "language": "python",
   "name": "python3"
  },
  "language_info": {
   "codemirror_mode": {
    "name": "ipython",
    "version": 3
   },
   "file_extension": ".py",
   "mimetype": "text/x-python",
   "name": "python",
   "nbconvert_exporter": "python",
   "pygments_lexer": "ipython3",
   "version": "3.11.11"
  }
 },
 "nbformat": 4,
 "nbformat_minor": 5
}
