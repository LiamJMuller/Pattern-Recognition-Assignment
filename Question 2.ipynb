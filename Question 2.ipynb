{
 "cells": [
  {
   "cell_type": "markdown",
   "id": "e35944c1",
   "metadata": {},
   "source": [
    "Question 2"
   ]
  },
  {
   "cell_type": "markdown",
   "id": "e23011b6",
   "metadata": {},
   "source": [
    "2.1 implementing an A* algorithm to compute optimal path in a 3x3 maze"
   ]
  },
  {
   "cell_type": "code",
   "execution_count": 2,
   "id": "695dda6e",
   "metadata": {},
   "outputs": [],
   "source": [
    "import heapq"
   ]
  },
  {
   "cell_type": "code",
   "execution_count": 3,
   "id": "20053670",
   "metadata": {},
   "outputs": [
    {
     "name": "stdout",
     "output_type": "stream",
     "text": [
      "Path found [(0, 0), (1, 0), (2, 0), (2, 1), (2, 2)]\n"
     ]
    }
   ],
   "source": [
    "def astarAlgo(maze, start, goal):\n",
    "    rows, cols = len(maze), len(maze[0])\n",
    "\n",
    "    def heuristic(a, b):\n",
    "        # Manhattan distance\n",
    "        return abs(a[0] - b[0]) + abs(a[1] - b[1])\n",
    "    \n",
    "    # the priority queue\n",
    "    open_list = [(0+heuristic(start, goal), 0, start, [start])]\n",
    "    visited = set()\n",
    "\n",
    "    while open_list:\n",
    "        f, g, current, path = heapq.heappop(open_list)\n",
    "\n",
    "        if current in visited:\n",
    "            continue\n",
    "        visited.add(current)\n",
    "\n",
    "        # goal is reached\n",
    "        if current == goal:\n",
    "            return path\n",
    "        \n",
    "        # explore neighbors\n",
    "        for dx, dy in [(1,0), (-1,0), (0,1), (0,-1)]:\n",
    "            x, y = current[0]+dx, current[1]+dy\n",
    "            if 0<=x<rows and 0<=y<cols and maze[x][y] ==0:\n",
    "                neighbor=(x,y)\n",
    "                if neighbor not in visited:\n",
    "                    new_g = g+1\n",
    "                    new_f = new_g+heuristic(neighbor, goal)\n",
    "                    heapq.heappush(open_list,(new_f, new_g, neighbor, path+[neighbor]))\n",
    "    return None # no path found\n",
    "\n",
    "# maze in question\n",
    "maze = [\n",
    "    [0,0,1],\n",
    "    [0,1,0],\n",
    "    [0,0,0]\n",
    "]\n",
    "\n",
    "start =(0,0)\n",
    "goal = (2,2)\n",
    "\n",
    "path=astarAlgo(maze, start, goal)\n",
    "print(\"Path found\", path)"
   ]
  },
  {
   "cell_type": "markdown",
   "id": "db4f17c9",
   "metadata": {},
   "source": [
    "2.2 Clearly display the path taken and calculate the total number of steps and the final cost of the path. "
   ]
  },
  {
   "cell_type": "code",
   "execution_count": 4,
   "id": "78d98546",
   "metadata": {},
   "outputs": [
    {
     "name": "stdout",
     "output_type": "stream",
     "text": [
      "Path taken: [(0, 0), (1, 0), (2, 0), (2, 1), (2, 2)]\n",
      "Total number of steps: 4\n",
      "Final cost of the path: 4\n"
     ]
    }
   ],
   "source": [
    "# Display the path, total steps, and final cost\n",
    "if path:\n",
    "    print(\"Path taken:\", path)\n",
    "    total_steps = len(path) - 1\n",
    "    final_cost = total_steps  # Each step costs 1\n",
    "    print(\"Total number of steps:\", total_steps)\n",
    "    print(\"Final cost of the path:\", final_cost)\n",
    "else:\n",
    "    print(\"No path found.\")"
   ]
  }
 ],
 "metadata": {
  "kernelspec": {
   "display_name": "ZTM_data_science",
   "language": "python",
   "name": "python3"
  },
  "language_info": {
   "codemirror_mode": {
    "name": "ipython",
    "version": 3
   },
   "file_extension": ".py",
   "mimetype": "text/x-python",
   "name": "python",
   "nbconvert_exporter": "python",
   "pygments_lexer": "ipython3",
   "version": "3.11.11"
  }
 },
 "nbformat": 4,
 "nbformat_minor": 5
}
